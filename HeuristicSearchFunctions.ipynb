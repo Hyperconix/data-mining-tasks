{
 "cells": [
  {
   "cell_type": "markdown",
   "metadata": {},
   "source": [
    "## Optimisation and Heuristic Search\n",
    "\n"
   ]
  },
  {
   "cell_type": "markdown",
   "metadata": {},
   "source": [
    "## 1.1 Solution Representation & Objective Function"
   ]
  },
  {
   "cell_type": "markdown",
   "metadata": {},
   "source": [
    "### Solution Representation & Encoding\n",
    "\n",
    "\n",
    "We will represent this solution in the form of a binary list (0, 1) where 0's represent Anne's pictures and 1's represent Bob's pictures. \n",
    "\n",
    "For example, with 6 pictures of values [1000, 280, 420, 175, 650, 40].\n",
    "\n",
    "A potential solution is: \n",
    "[1, 0, 0, 1, 1, 0]\n",
    "\n",
    "In this case, Bob's total would be 1000 + 175 + 650 = 1825 and Anne's would be 280 + 420 + 40 = 740.\n",
    "\n",
    "The fairness of this solution as defined below is:\n",
    "\n",
    "$fairness = |740 - 1825| = 1085$\n",
    "\n",
    "As can be seen, this solution is biased towards Bob.\n",
    "\n",
    "\n",
    "### Quantitative Metric\n",
    "\n",
    "The metric for quantifying the quality of a solution can be shown below, which we will refer to as fairness:\n",
    "\n",
    "$fairness = |total1 - total2|$\n",
    "\n",
    "We will compare each candidate solution's fairness and the one which has the smallest absolute difference will be considered the most fair solution.\n",
    "\n",
    "We have chosen the absolute value to eliminate negative fairness results as the order in which the totals will be subtracted is unknown."
   ]
  },
  {
   "cell_type": "markdown",
   "metadata": {},
   "source": [
    "## Reading Picture Values from File"
   ]
  },
  {
   "cell_type": "code",
   "execution_count": 1,
   "metadata": {},
   "outputs": [],
   "source": [
    "def read_pictures_data(file_name):\n",
    "    \"\"\"\n",
    "    Reads CSV file containing picture values and returns those values\n",
    "    as a list of integers.\n",
    "\n",
    "\n",
    "    Parameters:\n",
    "        file_name (str): The string which is to be reversed.\n",
    "\n",
    "    Returns:\n",
    "        values (list): A list of the picture values as integers  \n",
    "    \"\"\"\n",
    "\n",
    "    with open(file_name, 'r') as picture_file:\n",
    "        lines = picture_file.readlines()\n",
    "\n",
    "        # Values are on the second line\n",
    "        value_line = lines[1]\n",
    "\n",
    "        # Makes each value an integer and creates a list, splitting by comma\n",
    "        values = list(map(int, value_line.split(',')))\n",
    "\n",
    "    return values"
   ]
  },
  {
   "cell_type": "code",
   "execution_count": 2,
   "metadata": {},
   "outputs": [
    {
     "name": "stdout",
     "output_type": "stream",
     "text": [
      "[281783, 132345, 534919, 247294, 1039003, 942652, 990371, 796111, 440308, 196838, 1023110, 59449, 817489, 907579, 4417, 934045, 558536, 479750, 214386, 665699, 64152, 46813, 53364, 19305, 799444, 454242, 885243, 60903, 464922, 918317, 1039794, 488814, 724987, 484163, 458818, 963859, 607717, 45068, 872793, 209716, 389874, 621576, 253525, 697713, 885223, 398144, 636210, 595926, 1047239, 824923]\n"
     ]
    }
   ],
   "source": [
    "picture_file_path = \"values50.csv\"\n",
    "\n",
    "picture_values = read_pictures_data(picture_file_path)\n",
    "\n",
    "print(picture_values)\n",
    "\n",
    "# This represents the total amount of pictures, it is the equivalent to \"n\" for this problem\n",
    "num_pictures = len(picture_values)"
   ]
  },
  {
   "cell_type": "markdown",
   "metadata": {},
   "source": [
    "## 1.2 Heuristic Search Functions"
   ]
  },
  {
   "cell_type": "markdown",
   "metadata": {},
   "source": [
    "## Shared Functions\n",
    "\n",
    "### This contains the evaluate(), calculate_individual_totals() and random_solution() functions, which are used in both Heuristic Search Functions "
   ]
  },
  {
   "cell_type": "code",
   "execution_count": 3,
   "metadata": {},
   "outputs": [],
   "source": [
    "import random as rnd\n",
    "\n",
    "def random_solution(size):\n",
    "    \"\"\"\n",
    "    Generates and returns a random solution in the form of a binary list (0, 1).\n",
    "\n",
    "    Parameters:\n",
    "        size (int): The size of the solution to generate\n",
    "\n",
    "    Returns:\n",
    "        sol (list): The binary list representing the generated solution\n",
    "    \"\"\"\n",
    "\n",
    "    solution = [] \n",
    "    \n",
    "    for i in range(size):\n",
    "        rnd_choice = rnd.randint(0, 1)\n",
    "      \n",
    "        solution.append(rnd_choice)\n",
    "        \n",
    "    return solution\n",
    "\n",
    "def calculate_individual_totals(solution):\n",
    "    \"\"\"\n",
    "    Calculates and returns the invididual picture value totals for Anne and Bob\n",
    "\n",
    "    Parameters:\n",
    "        solution (list): The solution to calculate the totals from\n",
    "\n",
    "    Returns:\n",
    "        anne_total (int): Anne's picture value total\n",
    "        bob_total (int): Bob's picture value total\n",
    "    \"\"\"\n",
    "\n",
    "    bob_total = 0\n",
    "\n",
    "    anne_total = 0\n",
    "\n",
    "    solution_length = len(solution)\n",
    "\n",
    "    for i in range(solution_length):\n",
    "        if solution[i] == 0:\n",
    "            anne_total += picture_values[i]\n",
    "        else:\n",
    "            bob_total += picture_values[i]\n",
    "\n",
    "    return anne_total, bob_total\n",
    "\n",
    "\n",
    "def evaluate(solution):\n",
    "    \"\"\"\n",
    "    Evaluates and returns the fairness of picture split between Anne and Bob.\n",
    "\n",
    "    Parameters:\n",
    "        solution (list): The solution to evaluate the fairness from\n",
    "\n",
    "    Returns:\n",
    "        fairness (int): The fairness evaluated from the picture split (the absolute difference)\n",
    "    \"\"\"\n",
    "\n",
    "    anne_total, bob_total = calculate_individual_totals(solution)\n",
    "\n",
    "    fairness = abs(anne_total - bob_total)\n",
    "\n",
    "    return fairness"
   ]
  },
  {
   "cell_type": "markdown",
   "metadata": {},
   "source": [
    "## Random Search Function\n",
    "\n",
    "### This includes the random_search() function which is used by Random Search"
   ]
  },
  {
   "cell_type": "code",
   "execution_count": 4,
   "metadata": {},
   "outputs": [],
   "source": [
    "def random_search(iterations):\n",
    "    \"\"\"\n",
    "    Performs a random search over the provided number of tries to locate\n",
    "    the solution which has the best fairness. This works by generating random solutions and\n",
    "    comparing them to each other. The best solution and best fairness found will be returned\n",
    "    at the end.\n",
    "\n",
    "    Parameters:\n",
    "        iterations (int): The number of tries/iterations to perform the search for\n",
    "\n",
    "    Returns:\n",
    "        best_solution (list): A binary list representing the best solution found \n",
    "        best_fairness (int): The best fairness found, corresponding to the best solution\n",
    "    \"\"\"\n",
    "\n",
    "    # We must start off by evaluating an initial solution, or we will not be able to compare accurately\n",
    "    starting_solution = random_solution(num_pictures)\n",
    "\n",
    "    best_solution = starting_solution\n",
    "    \n",
    "    best_fairness = evaluate(starting_solution)\n",
    "    \n",
    "    for i in range(iterations):\n",
    "        current_solution = random_solution(num_pictures)\n",
    "        \n",
    "        current_fairness = evaluate(current_solution)\n",
    "        \n",
    "        if current_fairness < best_fairness:\n",
    "            best_fairness = current_fairness\n",
    "            \n",
    "            best_solution = current_solution[:]\n",
    "\n",
    "    return best_solution, best_fairness"
   ]
  },
  {
   "cell_type": "markdown",
   "metadata": {},
   "source": [
    "## Hill Climbing Functions\n",
    "\n",
    "### This includes the neighbour() and hill_climbing() functions which are used by Hill Climbing"
   ]
  },
  {
   "cell_type": "code",
   "execution_count": 5,
   "metadata": {},
   "outputs": [],
   "source": [
    "import random as rnd\n",
    "\n",
    "def neighbour(solution):\n",
    "    \"\"\"\n",
    "    Performs a 1 bit flip operation on a given solution to create a neighbour solution\n",
    "    which can be used in hill climbing. This will choose a random position \n",
    "    and invert the number 0 -> 1 or 1 -> 0 respectively.\n",
    "\n",
    "    Parameters:\n",
    "        solution (list): The solution to perform the 1 bit flip operation on\n",
    "\n",
    "    Returns:\n",
    "        solution (list): The resulting neighbour solution from performing the bit flip\n",
    "    \"\"\"\n",
    "\n",
    "    rnd_pos = rnd.randint(0, len(solution) - 1)\n",
    "    \n",
    "    solution[rnd_pos] = 0 if solution[rnd_pos] else 1\n",
    "    \n",
    "    return solution\n",
    "\n",
    "def hill_climbing(iterations):\n",
    "    \"\"\"\n",
    "    Performs hill climbing search over the provided number of iterations to locate\n",
    "    the solution which has the best fairness. This works by generating a random solution\n",
    "    and then performing a 1 bit flip on that solution. Neighbour solutions are then compared.\n",
    "    The best solution, best fairness and list of the best fairnesses found will be returned\n",
    "    at the end.\n",
    "\n",
    "    Parameters:\n",
    "        iterations (int): The number of iterations to perform the hill climb for\n",
    "\n",
    "    Returns:\n",
    "        best_solution (list): A binary list representing the best solution found \n",
    "        best_fairness (int): The best fairness found, corresponding to the best solution\n",
    "        list_fairness (list): The list of best fairnesses found during the search\n",
    "    \"\"\"\n",
    "\n",
    "    list_fairnesses = []\n",
    "    \n",
    "    best_solution = random_solution(num_pictures)\n",
    "\n",
    "    best_fairness = evaluate(best_solution)\n",
    "    \n",
    "    list_fairnesses.append(best_fairness)\n",
    "    \n",
    "    # Running for fixed amount of iterations in this example\n",
    "    for i in range(iterations):\n",
    "        neighbour_solution = neighbour(best_solution[:])\n",
    "        \n",
    "        neighbour_fairness = evaluate(neighbour_solution)\n",
    "        \n",
    "        if neighbour_fairness < best_fairness:\n",
    "            best_solution = neighbour_solution[:]\n",
    "            \n",
    "            best_fairness = neighbour_fairness\n",
    "            \n",
    "            list_fairnesses.append(best_fairness)\n",
    "    \n",
    "    return best_solution, best_fairness, list_fairnesses"
   ]
  },
  {
   "cell_type": "markdown",
   "metadata": {},
   "source": [
    "## 1.3 Experimental Results\n",
    "\n",
    "### Testing Random Search & Hill Climbing"
   ]
  },
  {
   "cell_type": "markdown",
   "metadata": {},
   "source": [
    "## Random Search\n",
    "\n",
    "### A test of Random Search ran over 1000 iterations showing the split and totals for Anne and Bob"
   ]
  },
  {
   "cell_type": "code",
   "execution_count": 6,
   "metadata": {},
   "outputs": [
    {
     "name": "stdout",
     "output_type": "stream",
     "text": [
      "The best solution found was:\n",
      "[0, 0, 0, 1, 0, 1, 1, 0, 1, 1, 1, 0, 0, 0, 1, 0, 0, 1, 0, 1, 0, 1, 1, 1, 1, 0, 1, 1, 1, 0, 1, 0, 1, 1, 1, 1, 0, 0, 1, 0, 0, 0, 1, 0, 1, 0, 1, 0, 0, 0]\n",
      "The best fairness found was: £739\n",
      "Anne got 25 pictures and their total picture value was £13639066\n",
      "Bob got 25 pictures and their total picture value was £13639805\n"
     ]
    }
   ],
   "source": [
    "# We will reread the picture file and data so that these cells can be ran independently\n",
    "picture_file_path = \"values50.csv\"\n",
    "\n",
    "picture_values = read_pictures_data(picture_file_path)\n",
    "\n",
    "num_pictures = len(picture_values)\n",
    "\n",
    "# The number of iterations to run Random Search for\n",
    "iterations = 1000\n",
    "\n",
    "# Retrieving the best solution and fairness for random search\n",
    "best_solution, best_fairness = random_search(iterations)\n",
    "\n",
    "print(f\"The best solution found was:\\n{best_solution}\")\n",
    "\n",
    "print(f\"The best fairness found was: £{best_fairness}\")\n",
    "\n",
    "# As Anne's values are based on zeros, create a list containing only their values\n",
    "annes_split = [i for i in best_solution if i == 0]\n",
    "\n",
    "# As Bob's values are based on ones, create a list containing only their values\n",
    "bobs_split = [i for i in best_solution if i == 1]\n",
    "\n",
    "# Get the number of pictures using the length of the split given to Anne\n",
    "anne_num_pictures = len(annes_split)\n",
    "\n",
    "# Get the number of pictures using the length of the split given to Anne\n",
    "bob_num_pictures =  len(bobs_split)\n",
    "\n",
    "# Calculate the individual totals for Anne and Bob so they can be displayed\n",
    "annes_total, bobs_total = calculate_individual_totals(best_solution)\n",
    "\n",
    "print(f\"Anne got {anne_num_pictures} pictures and their total picture value was £{annes_total}\")\n",
    "\n",
    "print(f\"Bob got {bob_num_pictures} pictures and their total picture value was £{bobs_total}\")"
   ]
  },
  {
   "cell_type": "markdown",
   "metadata": {},
   "source": [
    "## Random Search 30 Runs Line Plot\n",
    "\n",
    "### The following plot shows the difference in fairness over 30 runs of Random Search"
   ]
  },
  {
   "cell_type": "code",
   "execution_count": 8,
   "metadata": {},
   "outputs": [
    {
     "data": {
      "image/png": "[encoded data removed]",
      "text/plain": [
       "<Figure size 576x576 with 1 Axes>"
      ]
     },
     "metadata": {
      "needs_background": "light"
     },
     "output_type": "display_data"
    },
    {
     "name": "stdout",
     "output_type": "stream",
     "text": [
      "The average fairness over 30 runs with 1000 iterations for Random Search was 6307.33\n"
     ]
    }
   ],
   "source": [
    "%matplotlib inline\n",
    "import matplotlib.pyplot as plt\n",
    "import numpy as np \n",
    "\n",
    "# The number of iterations to perform Random Search for\n",
    "iterations = 1000\n",
    "\n",
    "# The number of runs to loop Random Search for\n",
    "runs = 30\n",
    "\n",
    "# A list to store the fairness values returned by\n",
    "random_search_list_fairness = []\n",
    "\n",
    "# Loop for the number of runs and appends the fairnesses \n",
    "for i in range(runs):\n",
    "    run_fairness = random_search(iterations)[1]\n",
    "    \n",
    "    random_search_list_fairness.append(run_fairness)\n",
    "\n",
    "# Set the y axis to the list of fairness values returned by random search \n",
    "y = random_search_list_fairness\n",
    "\n",
    "# Plot line plot over 30 runs with 1000 iterations\n",
    "fig, ax = plt.subplots(figsize=(8, 8))\n",
    "\n",
    "plt.plot(y, color=\"purple\", linewidth=5)\n",
    "\n",
    "plt.ylabel(\"Fairness\")\n",
    "\n",
    "plt.xlabel(\"Runs\")\n",
    "\n",
    "plt.title(\"Random Search over 30 runs with 1000 iterations\")\n",
    "\n",
    "plt.show()\n",
    "\n",
    "# Using numpy get the average fairness over the 30 runs\n",
    "avg_fairness = np.average(random_search_list_fairness)\n",
    "\n",
    "print(f\"The average fairness over 30 runs with 1000 iterations for Random Search was {avg_fairness:.2f}\")"
   ]
  },
  {
   "cell_type": "markdown",
   "metadata": {},
   "source": [
    "## Hill Climbing\n",
    "\n",
    "### A test of Hill Climbing ran over 1000 iterations showing the split and totals for Anne and Bob"
   ]
  },
  {
   "cell_type": "code",
   "execution_count": 9,
   "metadata": {},
   "outputs": [
    {
     "name": "stdout",
     "output_type": "stream",
     "text": [
      "The best solution found was:\n",
      "[0, 0, 0, 0, 0, 1, 1, 0, 1, 0, 0, 0, 0, 0, 1, 1, 1, 0, 0, 0, 0, 1, 1, 1, 0, 0, 1, 1, 0, 1, 1, 0, 1, 0, 0, 1, 0, 0, 1, 0, 1, 0, 0, 0, 1, 1, 1, 0, 1, 1]\n",
      "The best fairness found was: £4231\n",
      "Anne got 28 pictures and their total picture value was £13641551\n",
      "Bob got 22 pictures and their total picture value was £13637320\n"
     ]
    }
   ],
   "source": [
    "# We will reread the picture file and data so that these cells can be ran independently\n",
    "picture_file_path = \"values50.csv\"\n",
    "\n",
    "picture_values = read_pictures_data(picture_file_path)\n",
    "\n",
    "num_pictures = len(picture_values)\n",
    "\n",
    "# The number of iterations to perform Hill Climbing for\n",
    "hillclimbing_iterations = 1000\n",
    "\n",
    "# Retrive the best solution, fairness and the list of best fairnesses\n",
    "best_solution, best_fairness, hill_climbing_best_fairness = hill_climbing(hillclimbing_iterations)\n",
    "\n",
    "print(f\"The best solution found was:\\n{best_solution}\")\n",
    "\n",
    "print(f\"The best fairness found was: £{best_fairness}\")\n",
    "\n",
    "# As Anne's values are based on zeros, create a list containing only their values\n",
    "annes_split = [i for i in best_solution if i == 0]\n",
    "\n",
    "# As Bob's values are based on ones, create a list containing only their values\n",
    "bobs_split = [i for i in best_solution if i == 1]\n",
    "\n",
    "# Get the number of pictures using the length of the split given to Anne\n",
    "anne_num_pictures = len(annes_split)\n",
    "\n",
    "# Get the number of pictures using the length of the split given to Anne\n",
    "bob_num_pictures =  len(bobs_split)\n",
    "\n",
    "# Calculate the individual totals for Anne and Bob so they can be displayed\n",
    "annes_total, bobs_total = calculate_individual_totals(best_solution)\n",
    "\n",
    "print(f\"Anne got {anne_num_pictures} pictures and their total picture value was £{annes_total}\")\n",
    "\n",
    "print(f\"Bob got {bob_num_pictures} pictures and their total picture value was £{bobs_total}\")"
   ]
  },
  {
   "cell_type": "markdown",
   "metadata": {},
   "source": [
    "## Hill Climbing Single Run Line Plot\n",
    "\n",
    "### The following plot shows the difference in fairness over a single run of Hill Climbing"
   ]
  },
  {
   "cell_type": "code",
   "execution_count": 10,
   "metadata": {},
   "outputs": [
    {
     "data": {
      "image/png": "[encoded data removed]",
      "text/plain": [
       "<Figure size 576x576 with 1 Axes>"
      ]
     },
     "metadata": {
      "needs_background": "light"
     },
     "output_type": "display_data"
    }
   ],
   "source": [
    "%matplotlib inline  \n",
    "\n",
    "import matplotlib.pyplot as plt \n",
    "\n",
    "# The number of iterations to perform Hill Climbing for\n",
    "hillclimbing_iterations = 1000\n",
    "\n",
    "# Perform hill climbing and store the list of best fairnesses\n",
    "hill_climbing_best_fairness = hill_climbing(hillclimbing_iterations)[2]\n",
    "\n",
    "# Set the y axis to the list of best fairness values returned by Hill Climbing\n",
    "y = hill_climbing_best_fairness\n",
    "\n",
    "# Plot line plot over a single run with 1000 iterations\n",
    "fig, ax = plt.subplots(figsize=(8, 8))\n",
    "\n",
    "plt.plot(y, color=\"purple\", linewidth=5)\n",
    "\n",
    "plt.ylabel(\"Fairness\")\n",
    "\n",
    "plt.title(\"Single Run of Hill Climbing - 1000 iterations\")\n",
    "\n",
    "plt.show()"
   ]
  },
  {
   "cell_type": "markdown",
   "metadata": {},
   "source": [
    "## Hill Climbing 30 Runs Line Plot\n",
    "\n",
    "### The following plot shows the difference in fairness over 30 runs of Hill Climbing"
   ]
  },
  {
   "cell_type": "code",
   "execution_count": 11,
   "metadata": {},
   "outputs": [
    {
     "data": {
      "image/png": "[encoded data removed]",
      "text/plain": [
       "<Figure size 576x576 with 1 Axes>"
      ]
     },
     "metadata": {
      "needs_background": "light"
     },
     "output_type": "display_data"
    },
    {
     "name": "stdout",
     "output_type": "stream",
     "text": [
      "The average fairness over 30 runs with 1000 iterations for Hill Climbing was 15646.87\n"
     ]
    }
   ],
   "source": [
    "%matplotlib inline  \n",
    "import matplotlib.pyplot as plt \n",
    "\n",
    "# The number of runs to loop Hill CLimbing for\n",
    "runs = 30 \n",
    "\n",
    "# The number of iterations to perform Hill Climbing for\n",
    "hillclimbing_iterations = 1000\n",
    "\n",
    "# Perform hill climbing and store the list of best fairnesses\n",
    "hill_climbing_best_fairness = []\n",
    "\n",
    "# Loop for the number of runs, appends the best fairness from Hill Climbing \n",
    "for i in range(runs):\n",
    "    # Store the temporary best fairness list for this run\n",
    "    hill_climbing_temp_list = hill_climbing(hillclimbing_iterations)[2]\n",
    "\n",
    "    # Append the minimum (best fairness value) to the hill climbing best fairnesses\n",
    "    hill_climbing_best_fairness.append(min(hill_climbing_temp_list))\n",
    "    \n",
    "# Set the y axis to the list of best fairness values returned by Hill Climbing\n",
    "y = hill_climbing_best_fairness\n",
    "\n",
    "# Plot line plot over 30 runs with 1000 iterations\n",
    "fig, ax = plt.subplots(figsize=(8, 8))\n",
    "\n",
    "plt.plot(y, color=\"purple\", linewidth=5)\n",
    "\n",
    "plt.ylabel(\"Fairness\")\n",
    "\n",
    "plt.xlabel(\"Runs\")\n",
    "\n",
    "plt.title(\"Hill Climbing over 30 Runs with 1000 iterations\")\n",
    "\n",
    "plt.show()\n",
    "\n",
    "# Using numpy get the average fairness over the 30 runs for Hill Climbing\n",
    "avg_fairness = np.average(hill_climbing_best_fairness)\n",
    "\n",
    "print(f\"The average fairness over 30 runs with 1000 iterations for Hill Climbing was {avg_fairness:.2f}\")"
   ]
  },
  {
   "cell_type": "markdown",
   "metadata": {},
   "source": [
    "## Hill Climb vs Random Search\n",
    "\n",
    "### The following distribution box plots show 30 Hill Climbing and Random Search runs over 1000 iterations"
   ]
  },
  {
   "cell_type": "code",
   "execution_count": 14,
   "metadata": {},
   "outputs": [
    {
     "data": {
      "image/png": "[encoded data removed]",
      "text/plain": [
       "<Figure size 864x504 with 1 Axes>"
      ]
     },
     "metadata": {
      "needs_background": "light"
     },
     "output_type": "display_data"
    },
    {
     "name": "stdout",
     "output_type": "stream",
     "text": [
      "The best fairnesses for Hill Climbing:\n",
      "[9759, 16937, 4149, 11987, 59737, 3435, 29761, 44577, 44453, 725, 32521, 43203, 4251, 25461, 25947, 4543, 39551, 15329, 3421, 24731, 1905, 2397, 2689, 2029, 17459, 2899, 3305, 4341, 15, 17495]\n",
      "The best fairnesses for Random Search:\n",
      "[477, 2305, 803, 3119, 3377, 3261, 4681, 8587, 9807, 169, 8545, 4771, 8837, 703, 221, 4005, 3165, 257, 1667, 4357, 10735, 11567, 14997, 3307, 573, 1201, 3243, 3743, 11429, 2681]\n",
      "Best fairness for hill climbing: 15\n",
      "Best fairness for random search: 169\n"
     ]
    }
   ],
   "source": [
    "%matplotlib inline               \n",
    "\n",
    "import matplotlib.pyplot as plt\n",
    " \n",
    "# The number of runs to loop both Hill Climbing and Random Search for\n",
    "runs = 30\n",
    "\n",
    "# The number of iterations to perform Hill Climbing and Random Search for\n",
    "iterations = 1000\n",
    "\n",
    "# A list responsible for storing the best fairnesses for Hill Climbing\n",
    "hill_climbing_best_fairness = []\n",
    "\n",
    "# A list responsible for storing the best fairnesses for Random Search\n",
    "random_search_best_fairness = []\n",
    "\n",
    "# Loop for the number of runs, appends the best fairness from Hill Climbing and Random Search\n",
    "for i in range(runs):\n",
    "    # Store the temporary best fairness list for this run\n",
    "    hill_climbing_temp_list = hill_climbing(iterations)[2]\n",
    "\n",
    "    # Append the minimum (best fairness value) to the hill climbing best fairnesses\n",
    "    hill_climbing_best_fairness.append(min(hill_climbing_temp_list))\n",
    "\n",
    "    # Get the random search fairness value for this run\n",
    "    random_search_run_fairness = random_search(iterations)[1]\n",
    "\n",
    "    # Append the random search fairness value to the random search best fairnesses\n",
    "    random_search_best_fairness.append(random_search_run_fairness)\n",
    "\n",
    "fig, ax = plt.subplots(figsize=(12, 7))\n",
    "\n",
    "# Using box plots, plot the distribution of both Hill Climbing and Random Search side by side\n",
    "plt.boxplot([hill_climbing_best_fairness, random_search_best_fairness], labels=[\"Hill Climbing\", \"Random Search\"])\n",
    "\n",
    "plt.title(\"Hill Climbing vs Random Search\")\n",
    "\n",
    "plt.ylabel(\"Best Fairness\")\n",
    "\n",
    "plt.xlabel(\"Heuristic Search Functions\")\n",
    "\n",
    "plt.show()\n",
    "\n",
    "print(f\"The best fairnesses for Hill Climbing:\\n{hill_climbing_best_fairness}\")\n",
    "\n",
    "print(f\"The best fairnesses for Random Search:\\n{random_search_best_fairness}\")\n",
    "\n",
    "print(f\"Best fairness for hill climbing: {min(hill_climbing_best_fairness)}\")\n",
    "\n",
    "print(f\"Best fairness for random search: {min(random_search_best_fairness)}\")"
   ]
  },
  {
   "cell_type": "markdown",
   "metadata": {},
   "source": [
    "## Conclusion\n",
    "\n",
    "#### In our testing, Random Search seemed to be the more stable performer and usually has distributions which contain fairer splits than Hill Climbing. However, this could be due to the random nature of Random Search and the fact that Hill Climbing is not optimised. If Hill Climbing was optimised, we predict it would likely outperform Random Search. In this example, we used 1000 iterations with 30 runs. The more time that is given to Random Search improves its output."
   ]
  },
  {
   "cell_type": "markdown",
   "metadata": {},
   "source": [
    "## Example of the best solution found\n",
    "\n",
    "### This shows a solution which has a fairness of £1. There are other solutions which can achieve this."
   ]
  },
  {
   "cell_type": "code",
   "execution_count": 13,
   "metadata": {},
   "outputs": [
    {
     "name": "stdout",
     "output_type": "stream",
     "text": [
      "Anne got 26 pictures and their total picture value was £13639436\n",
      "Bob got 24 pictures and their total picture value was £13639435\n",
      "The best found fairness was £1\n"
     ]
    }
   ],
   "source": [
    "# Store the binary list representation of one of the best solutions\n",
    "best_found_solution = [1, 0, 0, 0, 0, 1, 1, 0, 0, 0, 1, 0, 1, 1, 0, 1, 0, 0, 1, 0, 1, 1, 1, 1, 0, 0, 1, 0, 1, 0, 1, 0, 0, 0, 1, 1, 1, 1, 0, 1, 1, 0, 0, 0, 0, 0, 1, 1, 1, 0]\n",
    "\n",
    "# As Anne's values are based on zeros, create a list containing only their values\n",
    "annes_split = [i for i in best_found_solution if i == 0]\n",
    "\n",
    "# As Bob's values are based on ones, create a list containing only their values\n",
    "bobs_split = [i for i in best_found_solution if i == 1]\n",
    "\n",
    "# Get the number of pictures using the length of the split given to Anne\n",
    "anne_num_pictures = len(annes_split)\n",
    "\n",
    "# Get the number of pictures using the length of the split given to Anne\n",
    "bob_num_pictures =  len(bobs_split)\n",
    "\n",
    "# Calculate the individual totals for Anne & Bob so they can be displayed\n",
    "annes_total, bobs_total = calculate_individual_totals(best_found_solution)\n",
    "\n",
    "print(f\"Anne got {anne_num_pictures} pictures and their total picture value was £{annes_total}\")\n",
    "\n",
    "print(f\"Bob got {bob_num_pictures} pictures and their total picture value was £{bobs_total}\")\n",
    "\n",
    "# Evaluate the best found solution using the defined evaluate function to get the best fairness\n",
    "best_found_fairness = evaluate(best_found_solution)\n",
    "\n",
    "print(f\"The best found fairness was £{best_found_fairness}\")"
   ]
  }
 ],
 "metadata": {
  "kernelspec": {
   "display_name": "Python 3",
   "language": "python",
   "name": "python3"
  },
  "language_info": {
   "codemirror_mode": {
    "name": "ipython",
    "version": 3
   },
   "file_extension": ".py",
   "mimetype": "text/x-python",
   "name": "python",
   "nbconvert_exporter": "python",
   "pygments_lexer": "ipython3",
   "version": "3.8.8"
  }
 },
 "nbformat": 4,
 "nbformat_minor": 4
}
